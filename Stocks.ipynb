{
 "cells": [
  {
   "cell_type": "code",
   "execution_count": null,
   "id": "8f729ca2",
   "metadata": {},
   "outputs": [],
   "source": []
  },
  {
   "cell_type": "code",
   "execution_count": 185,
   "id": "98d6bb0c",
   "metadata": {},
   "outputs": [],
   "source": [
    "import yfinance as yf\n",
    "import numpy as np \n",
    "import seaborn as sns\n",
    "import matplotlib.pyplot as plt\n",
    "%matplotlib inline\n"
   ]
  },
  {
   "cell_type": "code",
   "execution_count": 83,
   "id": "bb18ac5e",
   "metadata": {},
   "outputs": [
    {
     "name": "stdout",
     "output_type": "stream",
     "text": [
      "dinnerNG=F\n",
      "[*********************100%***********************]  1 of 1 completed\n"
     ]
    }
   ],
   "source": [
    "stocks = input(\"dinner\")\n",
    "data = yf.download(stocks, \"2008-01-01\", \"2021-01-18\", auto_adjust=True)"
   ]
  },
  {
   "cell_type": "code",
   "execution_count": 84,
   "id": "7a53ce63",
   "metadata": {},
   "outputs": [
    {
     "data": {
      "text/html": [
       "<div>\n",
       "<style scoped>\n",
       "    .dataframe tbody tr th:only-of-type {\n",
       "        vertical-align: middle;\n",
       "    }\n",
       "\n",
       "    .dataframe tbody tr th {\n",
       "        vertical-align: top;\n",
       "    }\n",
       "\n",
       "    .dataframe thead th {\n",
       "        text-align: right;\n",
       "    }\n",
       "</style>\n",
       "<table border=\"1\" class=\"dataframe\">\n",
       "  <thead>\n",
       "    <tr style=\"text-align: right;\">\n",
       "      <th></th>\n",
       "      <th>Open</th>\n",
       "      <th>High</th>\n",
       "      <th>Low</th>\n",
       "      <th>Close</th>\n",
       "      <th>Volume</th>\n",
       "    </tr>\n",
       "    <tr>\n",
       "      <th>Date</th>\n",
       "      <th></th>\n",
       "      <th></th>\n",
       "      <th></th>\n",
       "      <th></th>\n",
       "      <th></th>\n",
       "    </tr>\n",
       "  </thead>\n",
       "  <tbody>\n",
       "    <tr>\n",
       "      <th>2008-01-02</th>\n",
       "      <td>7.572</td>\n",
       "      <td>7.876</td>\n",
       "      <td>7.564</td>\n",
       "      <td>7.850</td>\n",
       "      <td>68553</td>\n",
       "    </tr>\n",
       "    <tr>\n",
       "      <th>2008-01-03</th>\n",
       "      <td>7.873</td>\n",
       "      <td>7.980</td>\n",
       "      <td>7.610</td>\n",
       "      <td>7.674</td>\n",
       "      <td>72742</td>\n",
       "    </tr>\n",
       "    <tr>\n",
       "      <th>2008-01-04</th>\n",
       "      <td>7.652</td>\n",
       "      <td>7.859</td>\n",
       "      <td>7.500</td>\n",
       "      <td>7.841</td>\n",
       "      <td>61496</td>\n",
       "    </tr>\n",
       "    <tr>\n",
       "      <th>2008-01-07</th>\n",
       "      <td>7.803</td>\n",
       "      <td>7.940</td>\n",
       "      <td>7.701</td>\n",
       "      <td>7.879</td>\n",
       "      <td>56675</td>\n",
       "    </tr>\n",
       "    <tr>\n",
       "      <th>2008-01-08</th>\n",
       "      <td>7.909</td>\n",
       "      <td>7.997</td>\n",
       "      <td>7.880</td>\n",
       "      <td>7.967</td>\n",
       "      <td>53775</td>\n",
       "    </tr>\n",
       "  </tbody>\n",
       "</table>\n",
       "</div>"
      ],
      "text/plain": [
       "             Open   High    Low  Close  Volume\n",
       "Date                                          \n",
       "2008-01-02  7.572  7.876  7.564  7.850   68553\n",
       "2008-01-03  7.873  7.980  7.610  7.674   72742\n",
       "2008-01-04  7.652  7.859  7.500  7.841   61496\n",
       "2008-01-07  7.803  7.940  7.701  7.879   56675\n",
       "2008-01-08  7.909  7.997  7.880  7.967   53775"
      ]
     },
     "execution_count": 84,
     "metadata": {},
     "output_type": "execute_result"
    }
   ],
   "source": [
    "data.head()"
   ]
  },
  {
   "cell_type": "code",
   "execution_count": 85,
   "id": "921092e3",
   "metadata": {},
   "outputs": [
    {
     "data": {
      "text/html": [
       "<div>\n",
       "<style scoped>\n",
       "    .dataframe tbody tr th:only-of-type {\n",
       "        vertical-align: middle;\n",
       "    }\n",
       "\n",
       "    .dataframe tbody tr th {\n",
       "        vertical-align: top;\n",
       "    }\n",
       "\n",
       "    .dataframe thead th {\n",
       "        text-align: right;\n",
       "    }\n",
       "</style>\n",
       "<table border=\"1\" class=\"dataframe\">\n",
       "  <thead>\n",
       "    <tr style=\"text-align: right;\">\n",
       "      <th></th>\n",
       "      <th>Open</th>\n",
       "      <th>High</th>\n",
       "      <th>Low</th>\n",
       "      <th>Close</th>\n",
       "      <th>Volume</th>\n",
       "    </tr>\n",
       "  </thead>\n",
       "  <tbody>\n",
       "    <tr>\n",
       "      <th>count</th>\n",
       "      <td>3282.000000</td>\n",
       "      <td>3282.000000</td>\n",
       "      <td>3282.000000</td>\n",
       "      <td>3282.000000</td>\n",
       "      <td>3282.000000</td>\n",
       "    </tr>\n",
       "    <tr>\n",
       "      <th>mean</th>\n",
       "      <td>3.713705</td>\n",
       "      <td>3.787288</td>\n",
       "      <td>3.635038</td>\n",
       "      <td>3.707074</td>\n",
       "      <td>131397.603595</td>\n",
       "    </tr>\n",
       "    <tr>\n",
       "      <th>std</th>\n",
       "      <td>1.830425</td>\n",
       "      <td>1.865744</td>\n",
       "      <td>1.789584</td>\n",
       "      <td>1.825297</td>\n",
       "      <td>54393.040171</td>\n",
       "    </tr>\n",
       "    <tr>\n",
       "      <th>min</th>\n",
       "      <td>1.441000</td>\n",
       "      <td>1.567000</td>\n",
       "      <td>1.432000</td>\n",
       "      <td>1.482000</td>\n",
       "      <td>0.000000</td>\n",
       "    </tr>\n",
       "    <tr>\n",
       "      <th>25%</th>\n",
       "      <td>2.691250</td>\n",
       "      <td>2.736500</td>\n",
       "      <td>2.644000</td>\n",
       "      <td>2.693000</td>\n",
       "      <td>91744.250000</td>\n",
       "    </tr>\n",
       "    <tr>\n",
       "      <th>50%</th>\n",
       "      <td>3.253000</td>\n",
       "      <td>3.312000</td>\n",
       "      <td>3.183500</td>\n",
       "      <td>3.240500</td>\n",
       "      <td>126669.500000</td>\n",
       "    </tr>\n",
       "    <tr>\n",
       "      <th>75%</th>\n",
       "      <td>4.157750</td>\n",
       "      <td>4.244750</td>\n",
       "      <td>4.066750</td>\n",
       "      <td>4.152000</td>\n",
       "      <td>161490.500000</td>\n",
       "    </tr>\n",
       "    <tr>\n",
       "      <th>max</th>\n",
       "      <td>13.580000</td>\n",
       "      <td>13.694000</td>\n",
       "      <td>13.306000</td>\n",
       "      <td>13.577000</td>\n",
       "      <td>459196.000000</td>\n",
       "    </tr>\n",
       "  </tbody>\n",
       "</table>\n",
       "</div>"
      ],
      "text/plain": [
       "              Open         High          Low        Close         Volume\n",
       "count  3282.000000  3282.000000  3282.000000  3282.000000    3282.000000\n",
       "mean      3.713705     3.787288     3.635038     3.707074  131397.603595\n",
       "std       1.830425     1.865744     1.789584     1.825297   54393.040171\n",
       "min       1.441000     1.567000     1.432000     1.482000       0.000000\n",
       "25%       2.691250     2.736500     2.644000     2.693000   91744.250000\n",
       "50%       3.253000     3.312000     3.183500     3.240500  126669.500000\n",
       "75%       4.157750     4.244750     4.066750     4.152000  161490.500000\n",
       "max      13.580000    13.694000    13.306000    13.577000  459196.000000"
      ]
     },
     "execution_count": 85,
     "metadata": {},
     "output_type": "execute_result"
    }
   ],
   "source": [
    "data.describe()"
   ]
  },
  {
   "cell_type": "markdown",
   "id": "ab790b31",
   "metadata": {},
   "source": [
    "- When : Single variable, trying to figure out how it is distributed\n",
    "- How it looks: Histogram + KDE(kernel density estimation)(Both of them are normed(sum=1))\n",
    "- (norm_hist = False) : literally shows the count\n",
    "- KDE?: Sum the normal distributions up and normalize it"
   ]
  },
  {
   "cell_type": "code",
   "execution_count": 86,
   "id": "de7a7be5",
   "metadata": {
    "scrolled": true
   },
   "outputs": [
    {
     "data": {
      "text/plain": [
       "<AxesSubplot:xlabel='Date'>"
      ]
     },
     "execution_count": 86,
     "metadata": {},
     "output_type": "execute_result"
    },
    {
     "data": {
      "image/png": "[encoded data removed]",
      "text/plain": [
       "<Figure size 720x504 with 1 Axes>"
      ]
     },
     "metadata": {
      "needs_background": "light"
     },
     "output_type": "display_data"
    }
   ],
   "source": [
    "data.Close.plot(figsize = (10,7), color = \"r\")"
   ]
  },
  {
   "cell_type": "code",
   "execution_count": 87,
   "id": "949dac9f",
   "metadata": {},
   "outputs": [
    {
     "name": "stderr",
     "output_type": "stream",
     "text": [
      "/Users/jaredpeck/opt/anaconda3/lib/python3.9/site-packages/seaborn/distributions.py:2619: FutureWarning: `distplot` is a deprecated function and will be removed in a future version. Please adapt your code to use either `displot` (a figure-level function with similar flexibility) or `histplot` (an axes-level function for histograms).\n",
      "  warnings.warn(msg, FutureWarning)\n"
     ]
    },
    {
     "data": {
      "text/plain": [
       "<AxesSubplot:xlabel='Close'>"
      ]
     },
     "execution_count": 87,
     "metadata": {},
     "output_type": "execute_result"
    },
    {
     "data": {
      "image/png": "[encoded data removed]",
      "text/plain": [
       "<Figure size 432x288 with 1 Axes>"
      ]
     },
     "metadata": {
      "needs_background": "light"
     },
     "output_type": "display_data"
    }
   ],
   "source": [
    "from scipy.stats import norm\n",
    "\n",
    "sns.distplot(data.Close, kde = False, hist = True ,  fit = norm, color = \"g\")\n"
   ]
  },
  {
   "cell_type": "code",
   "execution_count": 88,
   "id": "22fdca26",
   "metadata": {},
   "outputs": [
    {
     "name": "stderr",
     "output_type": "stream",
     "text": [
      "/Users/jaredpeck/opt/anaconda3/lib/python3.9/site-packages/seaborn/_decorators.py:36: FutureWarning: Pass the following variable as a keyword arg: x. From version 0.12, the only valid positional argument will be `data`, and passing other arguments without an explicit keyword will result in an error or misinterpretation.\n",
      "  warnings.warn(\n"
     ]
    },
    {
     "data": {
      "text/plain": [
       "<AxesSubplot:xlabel='Close'>"
      ]
     },
     "execution_count": 88,
     "metadata": {},
     "output_type": "execute_result"
    },
    {
     "data": {
      "image/png": "[encoded data removed]",
      "text/plain": [
       "<Figure size 432x288 with 1 Axes>"
      ]
     },
     "metadata": {
      "needs_background": "light"
     },
     "output_type": "display_data"
    }
   ],
   "source": [
    "sns.boxplot(data[\"Close\"])"
   ]
  },
  {
   "cell_type": "code",
   "execution_count": 89,
   "id": "51bde14a",
   "metadata": {},
   "outputs": [],
   "source": [
    "# understood the shape and data distribution\n",
    "# Linear Logistic SVM "
   ]
  },
  {
   "cell_type": "code",
   "execution_count": 90,
   "id": "1b29449d",
   "metadata": {},
   "outputs": [
    {
     "name": "stdout",
     "output_type": "stream",
     "text": [
      "(2625, 4)\n",
      "(2625,)\n",
      "(657,)\n",
      "(657, 4)\n"
     ]
    }
   ],
   "source": [
    "X = data.drop(\"Close\", axis = 1)\n",
    "y = data[\"Close\"]\n",
    "\n",
    "from sklearn.model_selection import train_test_split\n",
    "X_train, X_test, y_train, y_test = train_test_split(X, y, test_size=.2, random_state=0)\n",
    "print(X_train.shape)\n",
    "print(y_train.shape)\n",
    "print(y_test.shape)\n",
    "print(X_test.shape)\n",
    "\n",
    "\n",
    "\n"
   ]
  },
  {
   "cell_type": "code",
   "execution_count": 91,
   "id": "7b4cbe91",
   "metadata": {},
   "outputs": [],
   "source": [
    "from sklearn.linear_model import LinearRegression"
   ]
  },
  {
   "cell_type": "code",
   "execution_count": 105,
   "id": "c743860d",
   "metadata": {},
   "outputs": [],
   "source": [
    "lr = LinearRegression().fit(X_train, y_train)\n",
    "pred1 =lr.predict(X_test)"
   ]
  },
  {
   "cell_type": "code",
   "execution_count": 95,
   "id": "4117269a",
   "metadata": {},
   "outputs": [],
   "source": [
    "'''\n",
    "MSE\n",
    "Mean square error (MSE) is the average of the square of the errors. The larger the number the larger the error\n",
    "RMSE \n",
    "a metric that tells us how far apart our predicted values are from our observed values in a model, on average\n",
    "r2\n",
    "used to evaluate the performance of a linear regression model closer to 1 the better \n",
    "'''"
   ]
  },
  {
   "cell_type": "code",
   "execution_count": 111,
   "id": "f3f23596",
   "metadata": {},
   "outputs": [],
   "source": [
    "\n",
    "# all for Linear Regression\n",
    "# see how effective linear regression model is. \n",
    "from sklearn.metrics import mean_squared_error, r2_score\n",
    "\n",
    "\n",
    "def calculate(y_test, y_pred):\n",
    "    \"\"\"\n",
    "    y_test = y_true value,\n",
    "    y_pred = predicted value \n",
    "    \n",
    "    \"\"\"\n",
    "    mse = mean_squared_error(y_test, y_pred)\n",
    "    \n",
    "    rmse = np.sqrt(mse)\n",
    "    rscore = r2_score(y_test, y_pred)\n",
    "    print(\"MSE : {}\".format(mse))\n",
    "    print(\"RMSE : {}\".format(rmse))\n",
    "    print(\"RScore: {}\".format(rscore))\n",
    "        "
   ]
  },
  {
   "cell_type": "code",
   "execution_count": 112,
   "id": "2d7011aa",
   "metadata": {},
   "outputs": [
    {
     "name": "stdout",
     "output_type": "stream",
     "text": [
      "MSE : 0.0015345662928849346\n",
      "RMSE : 0.039173540724383525\n",
      "RScore: 0.9994383299702715\n"
     ]
    }
   ],
   "source": [
    "calculate(y_test, pred1 )"
   ]
  },
  {
   "cell_type": "code",
   "execution_count": 119,
   "id": "c75ffec9",
   "metadata": {},
   "outputs": [],
   "source": [
    "from sklearn.linear_model import Ridge, Lasso"
   ]
  },
  {
   "cell_type": "code",
   "execution_count": 120,
   "id": "04574cbc",
   "metadata": {},
   "outputs": [],
   "source": [
    "ridge = Ridge().fit(X_train, y_train)\n",
    "lasso = Lasso().fit(X_train, y_train)"
   ]
  },
  {
   "cell_type": "code",
   "execution_count": 124,
   "id": "55cdc42e",
   "metadata": {},
   "outputs": [
    {
     "name": "stdout",
     "output_type": "stream",
     "text": [
      "0.9994587279783269\n",
      "0.9099473970111531\n"
     ]
    }
   ],
   "source": [
    "print(ridge.score(X_train, y_train))\n",
    "print(lasso.score(X_train, y_train))\n",
    "\n",
    "ridge_pred = ridge.predict(X_test) \n",
    "lasso_pred = lasso.predict(X_test) \n",
    "\n"
   ]
  },
  {
   "cell_type": "code",
   "execution_count": 132,
   "id": "8035fcdc",
   "metadata": {
    "scrolled": true
   },
   "outputs": [
    {
     "name": "stdout",
     "output_type": "stream",
     "text": [
      "Ridge Regression\n",
      "MSE : 0.0016151026199633784\n",
      "RMSE : 0.04018833935314295\n",
      "RScore: 0.9994088526896652\n",
      "\n",
      "\n",
      "Lasso Regression\n",
      "MSE : 0.2369233626053282\n",
      "RMSE : 0.4867477402159441\n",
      "RScore: 0.9132831519010188\n"
     ]
    }
   ],
   "source": [
    "\n",
    "#[Ridge Predictions]\n",
    "print(\"Ridge Regression\")\n",
    "calculate(y_test, ridge_pred)\n",
    "print(\"\\n\")\n",
    "# [ Lasso less prone to overfitting with lasso]\n",
    "print(\"Lasso Regression\")\n",
    "calculate(y_test, lasso_pred)"
   ]
  },
  {
   "cell_type": "code",
   "execution_count": 144,
   "id": "e1b3b466",
   "metadata": {},
   "outputs": [],
   "source": [
    "from sklearn.svm import SVR\n",
    "from sklearn.model_selection import GridSearchCV\n",
    "\n"
   ]
  },
  {
   "cell_type": "code",
   "execution_count": 145,
   "id": "414705b1",
   "metadata": {},
   "outputs": [],
   "source": [
    "# C, Gammma, kernal : key hyperparameters that can be used to train the most optimal SVM model using RBF kernel.\n",
    "# Radial Basis Kernel is a kernel function that is used in machine learning to find a non-linear classifier or regression line."
   ]
  },
  {
   "cell_type": "code",
   "execution_count": 163,
   "id": "30a16a8f",
   "metadata": {},
   "outputs": [],
   "source": [
    "svr = SVR()\n",
    "\n",
    "params_grid = {\"C\": [0.1, 1, 10, 100, 1000], \n",
    "         \"gamma\":[1, 0.1, 0.01,0.001, 0.0001], \n",
    "        \"kernel\": [\"rbf\"] }"
   ]
  },
  {
   "cell_type": "code",
   "execution_count": 164,
   "id": "06c70824",
   "metadata": {
    "scrolled": true
   },
   "outputs": [
    {
     "name": "stdout",
     "output_type": "stream",
     "text": [
      "Fitting 5 folds for each of 25 candidates, totalling 125 fits\n",
      "[CV 1/5] END .......C=0.1, gamma=1, kernel=rbf;, score=-0.075 total time=   0.3s\n",
      "[CV 2/5] END .......C=0.1, gamma=1, kernel=rbf;, score=-0.070 total time=   0.2s\n",
      "[CV 3/5] END .......C=0.1, gamma=1, kernel=rbf;, score=-0.072 total time=   0.2s\n",
      "[CV 4/5] END .......C=0.1, gamma=1, kernel=rbf;, score=-0.073 total time=   0.2s\n",
      "[CV 5/5] END .......C=0.1, gamma=1, kernel=rbf;, score=-0.050 total time=   0.2s\n",
      "[CV 1/5] END .....C=0.1, gamma=0.1, kernel=rbf;, score=-0.074 total time=   0.2s\n",
      "[CV 2/5] END .....C=0.1, gamma=0.1, kernel=rbf;, score=-0.070 total time=   0.2s\n",
      "[CV 3/5] END .....C=0.1, gamma=0.1, kernel=rbf;, score=-0.072 total time=   0.2s\n",
      "[CV 4/5] END .....C=0.1, gamma=0.1, kernel=rbf;, score=-0.072 total time=   0.2s\n",
      "[CV 5/5] END .....C=0.1, gamma=0.1, kernel=rbf;, score=-0.050 total time=   0.2s\n",
      "[CV 1/5] END ....C=0.1, gamma=0.01, kernel=rbf;, score=-0.073 total time=   0.2s\n",
      "[CV 2/5] END ....C=0.1, gamma=0.01, kernel=rbf;, score=-0.070 total time=   0.2s\n",
      "[CV 3/5] END ....C=0.1, gamma=0.01, kernel=rbf;, score=-0.072 total time=   0.2s\n",
      "[CV 4/5] END ....C=0.1, gamma=0.01, kernel=rbf;, score=-0.069 total time=   0.2s\n",
      "[CV 5/5] END ....C=0.1, gamma=0.01, kernel=rbf;, score=-0.049 total time=   0.2s\n",
      "[CV 1/5] END ...C=0.1, gamma=0.001, kernel=rbf;, score=-0.065 total time=   0.2s\n",
      "[CV 2/5] END ...C=0.1, gamma=0.001, kernel=rbf;, score=-0.064 total time=   0.2s\n",
      "[CV 3/5] END ...C=0.1, gamma=0.001, kernel=rbf;, score=-0.064 total time=   0.2s\n",
      "[CV 4/5] END ...C=0.1, gamma=0.001, kernel=rbf;, score=-0.060 total time=   0.2s\n",
      "[CV 5/5] END ...C=0.1, gamma=0.001, kernel=rbf;, score=-0.047 total time=   0.2s\n",
      "[CV 1/5] END ..C=0.1, gamma=0.0001, kernel=rbf;, score=-0.052 total time=   0.2s\n",
      "[CV 2/5] END ..C=0.1, gamma=0.0001, kernel=rbf;, score=-0.049 total time=   0.3s\n",
      "[CV 3/5] END ..C=0.1, gamma=0.0001, kernel=rbf;, score=-0.042 total time=   0.2s\n",
      "[CV 4/5] END ..C=0.1, gamma=0.0001, kernel=rbf;, score=-0.042 total time=   0.2s\n",
      "[CV 5/5] END ..C=0.1, gamma=0.0001, kernel=rbf;, score=-0.034 total time=   0.2s\n",
      "[CV 1/5] END .........C=1, gamma=1, kernel=rbf;, score=-0.038 total time=   0.3s\n",
      "[CV 2/5] END .........C=1, gamma=1, kernel=rbf;, score=-0.037 total time=   0.3s\n",
      "[CV 3/5] END .........C=1, gamma=1, kernel=rbf;, score=-0.040 total time=   0.3s\n",
      "[CV 4/5] END .........C=1, gamma=1, kernel=rbf;, score=-0.041 total time=   0.3s\n",
      "[CV 5/5] END .........C=1, gamma=1, kernel=rbf;, score=-0.020 total time=   0.3s\n",
      "[CV 1/5] END .......C=1, gamma=0.1, kernel=rbf;, score=-0.037 total time=   0.3s\n",
      "[CV 2/5] END .......C=1, gamma=0.1, kernel=rbf;, score=-0.036 total time=   0.3s\n",
      "[CV 3/5] END .......C=1, gamma=0.1, kernel=rbf;, score=-0.039 total time=   0.3s\n",
      "[CV 4/5] END .......C=1, gamma=0.1, kernel=rbf;, score=-0.039 total time=   0.3s\n",
      "[CV 5/5] END .......C=1, gamma=0.1, kernel=rbf;, score=-0.022 total time=   0.3s\n",
      "[CV 1/5] END ......C=1, gamma=0.01, kernel=rbf;, score=-0.039 total time=   0.3s\n",
      "[CV 2/5] END ......C=1, gamma=0.01, kernel=rbf;, score=-0.046 total time=   0.3s\n",
      "[CV 3/5] END ......C=1, gamma=0.01, kernel=rbf;, score=-0.042 total time=   0.3s\n",
      "[CV 4/5] END ......C=1, gamma=0.01, kernel=rbf;, score=-0.020 total time=   0.3s\n",
      "[CV 5/5] END ......C=1, gamma=0.01, kernel=rbf;, score=-0.023 total time=   0.3s\n",
      "[CV 1/5] END .....C=1, gamma=0.001, kernel=rbf;, score=-0.030 total time=   0.3s\n",
      "[CV 2/5] END .....C=1, gamma=0.001, kernel=rbf;, score=-0.054 total time=   0.3s\n",
      "[CV 3/5] END .....C=1, gamma=0.001, kernel=rbf;, score=-0.045 total time=   0.3s\n",
      "[CV 4/5] END .....C=1, gamma=0.001, kernel=rbf;, score=-0.006 total time=   0.3s\n",
      "[CV 5/5] END .....C=1, gamma=0.001, kernel=rbf;, score=-0.030 total time=   0.3s\n",
      "[CV 1/5] END ....C=1, gamma=0.0001, kernel=rbf;, score=-0.027 total time=   0.3s\n",
      "[CV 2/5] END ....C=1, gamma=0.0001, kernel=rbf;, score=-0.043 total time=   0.3s\n",
      "[CV 3/5] END .....C=1, gamma=0.0001, kernel=rbf;, score=0.001 total time=   0.3s\n",
      "[CV 4/5] END .....C=1, gamma=0.0001, kernel=rbf;, score=0.010 total time=   0.3s\n",
      "[CV 5/5] END ....C=1, gamma=0.0001, kernel=rbf;, score=-0.039 total time=   0.3s\n",
      "[CV 1/5] END .........C=10, gamma=1, kernel=rbf;, score=0.002 total time=   0.3s\n",
      "[CV 2/5] END .........C=10, gamma=1, kernel=rbf;, score=0.002 total time=   0.3s\n",
      "[CV 3/5] END .........C=10, gamma=1, kernel=rbf;, score=0.001 total time=   0.3s\n",
      "[CV 4/5] END .........C=10, gamma=1, kernel=rbf;, score=0.001 total time=   0.3s\n",
      "[CV 5/5] END ........C=10, gamma=1, kernel=rbf;, score=-0.006 total time=   0.3s\n",
      "[CV 1/5] END .......C=10, gamma=0.1, kernel=rbf;, score=0.002 total time=   0.3s\n",
      "[CV 2/5] END .......C=10, gamma=0.1, kernel=rbf;, score=0.005 total time=   0.3s\n",
      "[CV 3/5] END .......C=10, gamma=0.1, kernel=rbf;, score=0.004 total time=   0.3s\n",
      "[CV 4/5] END .......C=10, gamma=0.1, kernel=rbf;, score=0.003 total time=   0.3s\n",
      "[CV 5/5] END ......C=10, gamma=0.1, kernel=rbf;, score=-0.004 total time=   0.3s\n",
      "[CV 1/5] END ......C=10, gamma=0.01, kernel=rbf;, score=0.012 total time=   0.3s\n",
      "[CV 2/5] END .....C=10, gamma=0.01, kernel=rbf;, score=-0.002 total time=   0.3s\n",
      "[CV 3/5] END .....C=10, gamma=0.01, kernel=rbf;, score=-0.008 total time=   0.3s\n",
      "[CV 4/5] END ......C=10, gamma=0.01, kernel=rbf;, score=0.070 total time=   0.3s\n",
      "[CV 5/5] END ......C=10, gamma=0.01, kernel=rbf;, score=0.030 total time=   0.3s\n",
      "[CV 1/5] END ....C=10, gamma=0.001, kernel=rbf;, score=-0.083 total time=   0.3s\n",
      "[CV 2/5] END ....C=10, gamma=0.001, kernel=rbf;, score=-0.115 total time=   0.3s\n",
      "[CV 3/5] END ....C=10, gamma=0.001, kernel=rbf;, score=-0.272 total time=   0.3s\n",
      "[CV 4/5] END ....C=10, gamma=0.001, kernel=rbf;, score=-0.008 total time=   0.3s\n",
      "[CV 5/5] END ....C=10, gamma=0.001, kernel=rbf;, score=-0.076 total time=   0.3s\n",
      "[CV 1/5] END ...C=10, gamma=0.0001, kernel=rbf;, score=-0.202 total time=   0.3s\n",
      "[CV 2/5] END ...C=10, gamma=0.0001, kernel=rbf;, score=-0.175 total time=   0.3s\n",
      "[CV 3/5] END ...C=10, gamma=0.0001, kernel=rbf;, score=-0.402 total time=   0.3s\n",
      "[CV 4/5] END ...C=10, gamma=0.0001, kernel=rbf;, score=-0.237 total time=   0.3s\n",
      "[CV 5/5] END ...C=10, gamma=0.0001, kernel=rbf;, score=-0.153 total time=   0.3s\n",
      "[CV 1/5] END ........C=100, gamma=1, kernel=rbf;, score=0.002 total time=   0.3s\n",
      "[CV 2/5] END ........C=100, gamma=1, kernel=rbf;, score=0.002 total time=   0.3s\n",
      "[CV 3/5] END ........C=100, gamma=1, kernel=rbf;, score=0.001 total time=   0.3s\n",
      "[CV 4/5] END ........C=100, gamma=1, kernel=rbf;, score=0.001 total time=   0.3s\n",
      "[CV 5/5] END .......C=100, gamma=1, kernel=rbf;, score=-0.006 total time=   0.3s\n",
      "[CV 1/5] END ......C=100, gamma=0.1, kernel=rbf;, score=0.002 total time=   0.3s\n",
      "[CV 2/5] END ......C=100, gamma=0.1, kernel=rbf;, score=0.005 total time=   0.3s\n",
      "[CV 3/5] END ......C=100, gamma=0.1, kernel=rbf;, score=0.004 total time=   0.3s\n",
      "[CV 4/5] END ......C=100, gamma=0.1, kernel=rbf;, score=0.003 total time=   0.3s\n",
      "[CV 5/5] END .....C=100, gamma=0.1, kernel=rbf;, score=-0.004 total time=   0.3s\n",
      "[CV 1/5] END .....C=100, gamma=0.01, kernel=rbf;, score=0.012 total time=   0.3s\n",
      "[CV 2/5] END ....C=100, gamma=0.01, kernel=rbf;, score=-0.002 total time=   0.3s\n",
      "[CV 3/5] END ....C=100, gamma=0.01, kernel=rbf;, score=-0.008 total time=   0.3s\n",
      "[CV 4/5] END .....C=100, gamma=0.01, kernel=rbf;, score=0.070 total time=   0.3s\n",
      "[CV 5/5] END .....C=100, gamma=0.01, kernel=rbf;, score=0.030 total time=   0.3s\n",
      "[CV 1/5] END ...C=100, gamma=0.001, kernel=rbf;, score=-0.098 total time=   0.3s\n",
      "[CV 2/5] END ...C=100, gamma=0.001, kernel=rbf;, score=-0.145 total time=   0.4s\n",
      "[CV 3/5] END ...C=100, gamma=0.001, kernel=rbf;, score=-0.305 total time=   0.3s\n",
      "[CV 4/5] END ...C=100, gamma=0.001, kernel=rbf;, score=-0.031 total time=   0.4s\n",
      "[CV 5/5] END ...C=100, gamma=0.001, kernel=rbf;, score=-0.129 total time=   0.4s\n",
      "[CV 1/5] END ..C=100, gamma=0.0001, kernel=rbf;, score=-0.547 total time=   0.6s\n",
      "[CV 2/5] END ..C=100, gamma=0.0001, kernel=rbf;, score=-0.947 total time=   0.6s\n",
      "[CV 3/5] END ..C=100, gamma=0.0001, kernel=rbf;, score=-0.855 total time=   0.6s\n",
      "[CV 4/5] END ..C=100, gamma=0.0001, kernel=rbf;, score=-0.626 total time=   0.6s\n",
      "[CV 5/5] END ..C=100, gamma=0.0001, kernel=rbf;, score=-1.239 total time=   0.7s\n",
      "[CV 1/5] END .......C=1000, gamma=1, kernel=rbf;, score=0.002 total time=   0.3s\n"
     ]
    },
    {
     "name": "stdout",
     "output_type": "stream",
     "text": [
      "[CV 2/5] END .......C=1000, gamma=1, kernel=rbf;, score=0.002 total time=   0.3s\n",
      "[CV 3/5] END .......C=1000, gamma=1, kernel=rbf;, score=0.001 total time=   0.3s\n",
      "[CV 4/5] END .......C=1000, gamma=1, kernel=rbf;, score=0.001 total time=   0.3s\n",
      "[CV 5/5] END ......C=1000, gamma=1, kernel=rbf;, score=-0.006 total time=   0.3s\n",
      "[CV 1/5] END .....C=1000, gamma=0.1, kernel=rbf;, score=0.002 total time=   0.3s\n",
      "[CV 2/5] END .....C=1000, gamma=0.1, kernel=rbf;, score=0.005 total time=   0.3s\n",
      "[CV 3/5] END .....C=1000, gamma=0.1, kernel=rbf;, score=0.004 total time=   0.3s\n",
      "[CV 4/5] END .....C=1000, gamma=0.1, kernel=rbf;, score=0.003 total time=   0.3s\n",
      "[CV 5/5] END ....C=1000, gamma=0.1, kernel=rbf;, score=-0.004 total time=   0.3s\n",
      "[CV 1/5] END ....C=1000, gamma=0.01, kernel=rbf;, score=0.012 total time=   0.3s\n",
      "[CV 2/5] END ...C=1000, gamma=0.01, kernel=rbf;, score=-0.002 total time=   0.3s\n",
      "[CV 3/5] END ...C=1000, gamma=0.01, kernel=rbf;, score=-0.008 total time=   0.3s\n",
      "[CV 4/5] END ....C=1000, gamma=0.01, kernel=rbf;, score=0.070 total time=   0.3s\n",
      "[CV 5/5] END ....C=1000, gamma=0.01, kernel=rbf;, score=0.030 total time=   0.3s\n",
      "[CV 1/5] END ..C=1000, gamma=0.001, kernel=rbf;, score=-0.098 total time=   0.4s\n",
      "[CV 2/5] END ..C=1000, gamma=0.001, kernel=rbf;, score=-0.146 total time=   0.4s\n",
      "[CV 3/5] END ..C=1000, gamma=0.001, kernel=rbf;, score=-0.305 total time=   0.4s\n",
      "[CV 4/5] END ..C=1000, gamma=0.001, kernel=rbf;, score=-0.030 total time=   0.4s\n",
      "[CV 5/5] END ..C=1000, gamma=0.001, kernel=rbf;, score=-0.128 total time=   0.4s\n",
      "[CV 1/5] END .C=1000, gamma=0.0001, kernel=rbf;, score=-0.829 total time=   2.3s\n",
      "[CV 2/5] END .C=1000, gamma=0.0001, kernel=rbf;, score=-1.385 total time=   2.7s\n",
      "[CV 3/5] END .C=1000, gamma=0.0001, kernel=rbf;, score=-0.998 total time=   2.6s\n",
      "[CV 4/5] END .C=1000, gamma=0.0001, kernel=rbf;, score=-0.918 total time=   2.6s\n",
      "[CV 5/5] END .C=1000, gamma=0.0001, kernel=rbf;, score=-1.301 total time=   2.6s\n"
     ]
    },
    {
     "data": {
      "text/plain": [
       "GridSearchCV(estimator=SVR(),\n",
       "             param_grid={'C': [0.1, 1, 10, 100, 1000],\n",
       "                         'gamma': [1, 0.1, 0.01, 0.001, 0.0001],\n",
       "                         'kernel': ['rbf']},\n",
       "             verbose=3)"
      ]
     },
     "execution_count": 164,
     "metadata": {},
     "output_type": "execute_result"
    }
   ],
   "source": [
    "# use this with SVR()\n",
    "grid = GridSearchCV(SVR(),params_grid, refit=True, verbose=3)\n",
    "grid.fit(X_train, y_train)"
   ]
  },
  {
   "cell_type": "code",
   "execution_count": 166,
   "id": "eab385cd",
   "metadata": {},
   "outputs": [
    {
     "data": {
      "text/plain": [
       "SVR(C=100, gamma=0.01)"
      ]
     },
     "execution_count": 166,
     "metadata": {},
     "output_type": "execute_result"
    }
   ],
   "source": [
    "grid.best_estimator_"
   ]
  },
  {
   "cell_type": "code",
   "execution_count": 176,
   "id": "83805860",
   "metadata": {},
   "outputs": [
    {
     "data": {
      "text/plain": [
       "array([3.76365956, 3.76365956, 3.76230057, 3.76365956, 3.2466756 ,\n",
       "       3.76365956, 3.81858227, 3.76365956, 3.76365956, 3.17658293,\n",
       "       2.79636823, 3.69380097, 2.71633995, 3.76365956, 3.76364116,\n",
       "       3.69185146, 3.76365956, 3.76365956, 3.81908664, 3.76340857,\n",
       "       3.75006454, 3.76728789, 3.76365956, 2.46582133, 3.76365956,\n",
       "       3.76365956, 3.76365956, 3.76599997, 3.76364381, 3.45573395,\n",
       "       3.76021601, 3.76037339, 3.76365956, 3.01785505, 3.76371026,\n",
       "       4.20836533, 3.76365956, 3.76365956, 3.76365956, 3.59937803,\n",
       "       3.76365909, 3.22679869, 3.76070821, 3.76365956, 3.76365956,\n",
       "       3.56999938, 4.91162529, 3.83622722, 3.78160499, 3.76367566,\n",
       "       3.76364215, 3.76365956, 3.74574911, 3.76365956, 3.76367553,\n",
       "       3.76365956, 3.76365956, 3.7438875 , 3.76365956, 3.76365956,\n",
       "       3.76365956, 2.9172196 , 2.90586322, 3.72944245, 3.76365956,\n",
       "       3.75976092, 3.76365956, 3.76088009, 3.76365956, 3.76365956,\n",
       "       3.76365958, 3.76101071, 4.04959858, 3.76365956, 3.76352828,\n",
       "       3.76365956, 3.76380123, 3.76365957, 3.76365956, 3.12050059,\n",
       "       3.76365956, 3.46525833, 3.76365956, 3.69154333, 2.86768871,\n",
       "       3.76365956, 3.76365956, 3.68555601, 3.763716  , 3.76365956,\n",
       "       3.76365956, 3.76351885, 3.7349721 , 3.76841843, 3.76365956,\n",
       "       3.76365956, 3.76364373, 3.76365956, 3.76365956, 3.72754196,\n",
       "       3.76365956, 3.76364833, 3.76365956, 2.37074628, 3.29078208,\n",
       "       2.8908508 , 6.18441802, 3.76365956, 2.9066071 , 2.47143629,\n",
       "       4.67349009, 3.71664992, 3.76365956, 3.76362574, 3.76645911,\n",
       "       3.76575164, 3.56342442, 3.76365956, 3.76365956, 3.76177065,\n",
       "       3.76365956, 3.67108989, 3.76365956, 3.76383302, 3.76366063,\n",
       "       3.76365829, 3.76365956, 3.76365956, 3.76365956, 3.62441718,\n",
       "       3.76365956, 3.76365956, 3.83230161, 3.76365952, 3.7637175 ,\n",
       "       3.82899266, 3.78805546, 3.7636472 , 2.70228709, 3.76365956,\n",
       "       3.7636595 , 3.75147164, 3.76365956, 3.76365956, 3.76366523,\n",
       "       3.76365956, 3.77006209, 3.96553644, 3.76365956, 3.74553606,\n",
       "       3.76369077, 3.77648322, 3.7636595 , 3.76365956, 3.76366221,\n",
       "       3.76463807, 4.1667029 , 3.7631182 , 3.10285252, 4.00360623,\n",
       "       3.76365956, 3.76365535, 3.76365621, 3.76365956, 3.85372655,\n",
       "       3.76359622, 3.76360541, 3.76163147, 3.65514727, 3.76365956,\n",
       "       3.59912485, 3.16225159, 3.76365956, 3.76366009, 4.79357584,\n",
       "       3.76365956, 3.76365956, 3.76365956, 3.76365956, 3.64256726,\n",
       "       3.75269257, 3.76365956, 3.4426944 , 3.76365956, 3.35994491,\n",
       "       3.76365956, 3.76365956, 3.76365956, 3.76365956, 5.29694745,\n",
       "       3.7588983 , 3.76203503, 3.76302754, 3.76365956, 4.23847179,\n",
       "       3.76365959, 5.67587398, 3.76365956, 3.76365956, 3.54998935,\n",
       "       3.76365929, 3.74288493, 3.26240224, 3.77021397, 3.76365868,\n",
       "       3.76365783, 3.76365956, 3.76365956, 3.76365956, 2.77021915,\n",
       "       3.65053207, 3.66927636, 3.76280265, 3.66209045, 3.7606382 ,\n",
       "       3.65247619, 2.85827129, 3.76650376, 3.15948489, 5.00525963,\n",
       "       3.23039817, 3.76365956, 3.76433266, 3.25606801, 3.76351057,\n",
       "       3.76365956, 3.48209187, 3.70008527, 4.20574897, 3.76365956,\n",
       "       2.47641411, 3.76365956, 3.76365954, 3.06073497, 3.7649691 ,\n",
       "       6.07821013, 3.76365956, 3.76260688, 3.76365956, 3.73614699,\n",
       "       3.76365956, 3.76411047, 3.76307819, 3.76365926, 3.61643018,\n",
       "       3.83804595, 3.76365956, 3.76384614, 3.85809271, 2.45317358,\n",
       "       3.76692126, 3.76365956, 3.76512285, 3.76365956, 3.76368819,\n",
       "       3.76365956, 4.47402728, 3.76667285, 4.19289218, 3.76366232,\n",
       "       3.60768382, 3.76452122, 3.76153349, 4.26106186, 3.76365956,\n",
       "       3.76365956, 3.76365956, 3.76365956, 3.76365889, 3.23929773,\n",
       "       3.13686957, 3.76105611, 3.76365956, 3.76365956, 3.76365956,\n",
       "       3.75437436, 3.76365956, 3.76365956, 3.87841981, 3.76365956,\n",
       "       3.7535714 , 3.76365956, 3.76365956, 2.78903672, 3.76365939,\n",
       "       3.76371659, 3.76365956, 4.04747031, 3.73853583, 4.12283782,\n",
       "       3.76365956, 3.76365956, 4.21509099, 3.76193952, 3.76365122,\n",
       "       3.81850493, 2.43499851, 4.63154253, 3.73276399, 3.76365759,\n",
       "       3.75876043, 3.76365956, 2.80886098, 3.52825047, 3.76365959,\n",
       "       3.76240753, 3.70874426, 3.76365956, 3.78597721, 3.76514289,\n",
       "       3.76365994, 3.74351071, 3.76365956, 3.76365956, 3.74600621,\n",
       "       3.66339395, 3.7636212 , 3.76365956, 3.77190325, 3.76365956,\n",
       "       3.76365968, 3.76365956, 3.76365805, 3.74197458, 5.09321968,\n",
       "       3.76365956, 3.76361106, 3.76365956, 3.76365956, 3.76366109,\n",
       "       3.76365956, 3.76365956, 3.76365956, 3.76365956, 2.88569926,\n",
       "       3.45889917, 3.13814509, 3.76365956, 2.79532578, 2.90732266,\n",
       "       3.33300983, 3.76324401, 3.76365389, 3.76365956, 3.76365956,\n",
       "       3.76365956, 3.76276825, 3.76365956, 2.91256994, 3.7019109 ,\n",
       "       3.76365956, 4.29817363, 3.76365497, 3.5331084 , 3.76519941,\n",
       "       3.72510309, 3.76365956, 3.76365956, 3.75794346, 4.9720822 ,\n",
       "       3.54746105, 3.55874325, 3.76365956, 3.76365956, 3.76096496,\n",
       "       3.76365956, 3.87102068, 3.76365956, 3.13424212, 3.76365958,\n",
       "       3.74424345, 3.76365956, 3.89137986, 3.76365956, 3.76352001,\n",
       "       3.76365956, 3.59136227, 3.24992683, 3.76365956, 3.76365956,\n",
       "       3.65298915, 4.15583191, 2.81731662, 3.76365956, 3.78872881,\n",
       "       4.01850611, 3.75976056, 3.75766922, 4.76679012, 3.74509937,\n",
       "       3.76365956, 3.76354459, 3.76365956, 3.76365956, 3.76365956,\n",
       "       3.76365956, 3.76365956, 3.76365927, 3.76365956, 3.76365956,\n",
       "       4.16866474, 3.76361139, 4.08180834, 3.76294953, 4.11639859,\n",
       "       3.78494131, 3.76365956, 3.76365956, 2.69094908, 3.76378487,\n",
       "       4.13769787, 3.76357708, 3.76323697, 5.24251654, 3.76365976,\n",
       "       3.76365985, 3.92168393, 3.76357684, 3.74615043, 4.15677407,\n",
       "       3.1959541 , 3.76365956, 3.91986551, 3.76317576, 3.76365956,\n",
       "       3.76365956, 3.98821939, 3.76370456, 3.76365956, 3.76365598,\n",
       "       3.20398495, 3.76365929, 3.76365956, 3.76365954, 3.73495586,\n",
       "       3.91842716, 3.70071632, 3.76674341, 3.76365956, 3.76365956,\n",
       "       4.25344594, 4.07128065, 3.69800679, 3.76365956, 3.82570499,\n",
       "       3.76366153, 3.76365956, 3.76365956, 2.52275831, 3.76365956,\n",
       "       3.7634054 , 3.76365957, 3.46443576, 3.76365956, 3.76365956,\n",
       "       3.28933182, 4.09718177, 3.76050589, 2.85514142, 3.76365956,\n",
       "       3.76365956, 3.79524509, 3.67248383, 3.76364756, 3.75205979,\n",
       "       3.76365797, 3.80106242, 3.76365956, 3.76365956, 3.82793982,\n",
       "       3.76365956, 3.76365956, 3.7630819 , 4.0404552 , 2.626264  ,\n",
       "       3.76365956, 3.76365956, 3.90410816, 3.76369581, 3.76637762,\n",
       "       3.42897326, 3.76365957, 3.76365956, 3.76361379, 3.76365934,\n",
       "       3.76463092, 3.76365951, 3.76365956, 3.76365956, 3.76136811,\n",
       "       3.92393676, 3.76286196, 3.63245947, 3.76365932, 3.76365956,\n",
       "       3.60953622, 3.13567213, 3.71993412, 3.73314611, 3.76365955,\n",
       "       3.76365956, 3.76365957, 3.76365956, 3.98416509, 3.76365956,\n",
       "       3.76365298, 3.76365956, 3.76365956, 3.76365956, 3.44598812,\n",
       "       2.6851964 , 4.31246669, 3.75852995, 3.38639024, 4.21717178,\n",
       "       3.74434746, 3.7364388 , 3.26676921, 3.69594368, 3.76365956,\n",
       "       3.76452869, 3.37407607, 3.76365866, 4.88141008, 3.76365956,\n",
       "       3.66034765, 3.76366237, 3.76365956, 4.6312532 , 3.76365956,\n",
       "       3.75670893, 2.15045369, 3.7636596 , 3.76360517, 3.58755707,\n",
       "       3.48006312, 3.50144517, 3.89133939, 4.41879525, 3.76383789,\n",
       "       3.76365956, 3.76365956, 3.76402612, 3.72667708, 4.67841021,\n",
       "       3.54759439, 3.7636591 , 3.76365956, 3.75615748, 3.88776246,\n",
       "       3.65290736, 3.76365956, 3.76365956, 3.02656565, 3.76365921,\n",
       "       3.76365956, 3.74394053, 3.82202196, 3.70895853, 4.12096658,\n",
       "       3.76358523, 2.09428551, 3.97609558, 2.21606556, 3.76365956,\n",
       "       3.76365956, 3.76365956, 3.75549473, 3.73812296, 3.9790409 ,\n",
       "       3.76365956, 3.76365956, 3.76365822, 3.91609263, 3.74442441,\n",
       "       2.26605034, 3.76365956, 3.76365956, 3.76365956, 3.76362385,\n",
       "       3.76366611, 3.76365956, 3.76352319, 3.76365956, 2.99997644,\n",
       "       3.76365956, 3.76365956, 3.96191677, 3.76435105, 3.76365956,\n",
       "       3.76365956, 4.33222894, 3.76395072, 3.76228926, 3.9408357 ,\n",
       "       3.76365956, 3.76365956, 3.76365956, 3.76045716, 3.76389633,\n",
       "       3.19300983, 3.76365956, 3.76365956, 3.76366308, 3.8017439 ,\n",
       "       3.76359912, 3.76365956, 3.76365956, 3.76365936, 3.76365956,\n",
       "       3.76365956, 3.49232721, 3.4427792 , 3.76366243, 4.41498409,\n",
       "       3.76365956, 3.76365956, 3.76365956, 3.76365816, 3.3289537 ,\n",
       "       3.76365956, 2.81095699, 3.87342416, 3.76365956, 3.76365956,\n",
       "       3.75546447, 3.24243265, 3.76365956, 3.76365956, 3.77775347,\n",
       "       3.76365956, 3.7635534 , 3.76420705, 3.7893205 , 3.084097  ,\n",
       "       3.76365956, 3.76365956, 3.69536191, 3.76365956, 3.76365402,\n",
       "       3.76365956, 3.76365956, 3.76365956, 3.76155644, 3.75624061,\n",
       "       3.49341062, 3.77049999, 3.76342801, 3.76365876, 3.76365956,\n",
       "       3.76365956, 3.76365956, 4.23721436, 4.08140582, 3.71715325,\n",
       "       3.76365956, 3.76365956])"
      ]
     },
     "execution_count": 176,
     "metadata": {},
     "output_type": "execute_result"
    }
   ],
   "source": [
    "svr = SVR(C = 100, gamma = 0.01, kernel = \"rbf\" )\n",
    "svr.fit(X_train, y_train)\n",
    "svr_predict = svr.predict(X_test)\n",
    "svr_predict"
   ]
  },
  {
   "cell_type": "code",
   "execution_count": 184,
   "id": "2090f6c4",
   "metadata": {},
   "outputs": [],
   "source": [
    "import joblib\n",
    "\n",
    "joblib.dump(ridge,\"model.pkl\")\n",
    "ridge_from_joblib = model = joblib.load(\"model.pkl\")\n"
   ]
  },
  {
   "cell_type": "code",
   "execution_count": 186,
   "id": "66e514eb",
   "metadata": {},
   "outputs": [],
   "source": [
    "# conclusion the best way to predict the values was with Ridge Regression.\n"
   ]
  }
 ],
 "metadata": {
  "kernelspec": {
   "display_name": "Python 3 (ipykernel)",
   "language": "python",
   "name": "python3"
  },
  "language_info": {
   "codemirror_mode": {
    "name": "ipython",
    "version": 3
   },
   "file_extension": ".py",
   "mimetype": "text/x-python",
   "name": "python",
   "nbconvert_exporter": "python",
   "pygments_lexer": "ipython3",
   "version": "3.9.12"
  }
 },
 "nbformat": 4,
 "nbformat_minor": 5
}
